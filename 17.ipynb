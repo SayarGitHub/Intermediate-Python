{
 "cells": [
  {
   "cell_type": "code",
   "execution_count": 15,
   "source": [
    "# Type and Class"
   ],
   "outputs": [],
   "metadata": {}
  },
  {
   "cell_type": "code",
   "execution_count": 16,
   "source": [
    "class Foo:\r\n",
    "    pass"
   ],
   "outputs": [],
   "metadata": {}
  },
  {
   "cell_type": "code",
   "execution_count": 17,
   "source": [
    "x = Foo()"
   ],
   "outputs": [],
   "metadata": {}
  },
  {
   "cell_type": "code",
   "execution_count": 18,
   "source": [
    "type(x)"
   ],
   "outputs": [
    {
     "output_type": "execute_result",
     "data": {
      "text/plain": [
       "__main__.Foo"
      ]
     },
     "metadata": {},
     "execution_count": 18
    }
   ],
   "metadata": {}
  },
  {
   "cell_type": "code",
   "execution_count": 19,
   "source": [
    "type(Foo)"
   ],
   "outputs": [
    {
     "output_type": "execute_result",
     "data": {
      "text/plain": [
       "type"
      ]
     },
     "metadata": {},
     "execution_count": 19
    }
   ],
   "metadata": {}
  },
  {
   "cell_type": "code",
   "execution_count": 20,
   "source": [
    "# The type of x is class Foo, as you would expect. But the type of Foo, the\r\n",
    "# class itself, is type. In general, the type of any new-style class is type.\r\n",
    "\r\n",
    "for t in int, float, dict, list, tuple:\r\n",
    "    print(type(t))\r\n"
   ],
   "outputs": [
    {
     "output_type": "stream",
     "name": "stdout",
     "text": [
      "<class 'type'>\n",
      "<class 'type'>\n",
      "<class 'type'>\n",
      "<class 'type'>\n",
      "<class 'type'>\n"
     ]
    }
   ],
   "metadata": {}
  },
  {
   "cell_type": "code",
   "execution_count": 21,
   "source": [
    "type(type)\r\n",
    "# type is a metaclass, of which classes are instances. Just as an ordinary\r\n",
    "# object is an instance of a class, any new-style class in Python, and thus any\r\n",
    "# class in Python 3, is an instance of the type metaclass."
   ],
   "outputs": [
    {
     "output_type": "execute_result",
     "data": {
      "text/plain": [
       "type"
      ]
     },
     "metadata": {},
     "execution_count": 21
    }
   ],
   "metadata": {}
  },
  {
   "cell_type": "code",
   "execution_count": 22,
   "source": [
    "# In the above case:\r\n",
    "\r\n",
    "# x is an instance of class Foo. Foo is an instance of the type metaclass. type\r\n",
    "# is also an instance of the type metaclass, so it is an instance of itself\r\n"
   ],
   "outputs": [],
   "metadata": {}
  },
  {
   "cell_type": "code",
   "execution_count": 23,
   "source": [
    "# Defining a class dynamically\r\n",
    "\r\n",
    "# You can also call type() with three arguments—type(<name>, <bases>, <dct>):\r\n",
    "\r\n",
    "# <name> specifies the class name. This becomes the __name__ attribute of the\r\n",
    "# class. \r\n",
    "\r\n",
    "# <bases> specifies a tuple of the base classes from which the class inherits.\r\n",
    "# This becomes the __bases__ attribute of the class. \r\n",
    "\r\n",
    "# <dct> specifies a namespace dictionary containing definitions for the class\r\n",
    "# body. This becomes the __dict__ attribute of the class. Calling type() in this\r\n",
    "# manner creates a new instance of the type metaclass. In other words, it\r\n",
    "# dynamically creates a new class."
   ],
   "outputs": [],
   "metadata": {}
  },
  {
   "cell_type": "code",
   "execution_count": 24,
   "source": [
    "# Example 1\r\n",
    "Foo = type('Foo', (), {})\r\n",
    "x = Foo()\r\n",
    "x"
   ],
   "outputs": [
    {
     "output_type": "execute_result",
     "data": {
      "text/plain": [
       "<__main__.Foo at 0x25fa0d200a0>"
      ]
     },
     "metadata": {},
     "execution_count": 24
    }
   ],
   "metadata": {}
  },
  {
   "cell_type": "code",
   "execution_count": 25,
   "source": [
    "class Foo:\r\n",
    "    pass\r\n",
    "x = Foo()\r\n",
    "x"
   ],
   "outputs": [
    {
     "output_type": "execute_result",
     "data": {
      "text/plain": [
       "<__main__.Foo at 0x25fa0d20820>"
      ]
     },
     "metadata": {},
     "execution_count": 25
    }
   ],
   "metadata": {}
  },
  {
   "cell_type": "code",
   "execution_count": 26,
   "source": [
    "# Example 2\r\n",
    "Bar = type('Bar', (Foo,), dict(attr=100))\r\n",
    "\r\n",
    "x = Bar()\r\n",
    "print(x.attr)\r\n",
    "print(x.__class__)\r\n",
    "print(x.__class__.__bases__)"
   ],
   "outputs": [
    {
     "output_type": "stream",
     "name": "stdout",
     "text": [
      "100\n",
      "<class '__main__.Bar'>\n",
      "(<class '__main__.Foo'>,)\n"
     ]
    }
   ],
   "metadata": {}
  },
  {
   "cell_type": "code",
   "execution_count": 27,
   "source": [
    "class Bar(Foo):\r\n",
    "    attr = 100\r\n",
    "\r\n",
    "\r\n",
    "x = Bar()\r\n",
    "print(x.attr)\r\n",
    "print(x.__class__)\r\n",
    "print(x.__class__.__bases__)"
   ],
   "outputs": [
    {
     "output_type": "stream",
     "name": "stdout",
     "text": [
      "100\n",
      "<class '__main__.Bar'>\n",
      "(<class '__main__.Foo'>,)\n"
     ]
    }
   ],
   "metadata": {}
  },
  {
   "cell_type": "code",
   "execution_count": 28,
   "source": [
    "# Example 3\r\n",
    "Foo = type(\"Foo\", (), {\"attr\": 100, \"attr_val\": lambda x: x.attr})\r\n",
    "\r\n",
    "x = Foo()\r\n",
    "print(x.attr)\r\n",
    "print(x.attr_val())"
   ],
   "outputs": [
    {
     "output_type": "stream",
     "name": "stdout",
     "text": [
      "100\n",
      "100\n"
     ]
    }
   ],
   "metadata": {}
  },
  {
   "cell_type": "code",
   "execution_count": 29,
   "source": [
    "class Foo:\r\n",
    "    attr = 100\r\n",
    "\r\n",
    "    def attr_val(self):\r\n",
    "        return self.attr\r\n",
    "\r\n",
    "\r\n",
    "x = Foo()\r\n",
    "print(x.attr)\r\n",
    "print(x.attr_val())\r\n"
   ],
   "outputs": [
    {
     "output_type": "stream",
     "name": "stdout",
     "text": [
      "100\n",
      "100\n"
     ]
    }
   ],
   "metadata": {}
  },
  {
   "cell_type": "code",
   "execution_count": 30,
   "source": [
    "# Custom Meta classes\r\n",
    "\r\n",
    "\r\n",
    "class Foo:\r\n",
    "    pass\r\n",
    "\r\n",
    "\r\n",
    "f = Foo()\r\n",
    "\r\n",
    "# The expression Foo() creates a new instance of class Foo. When the interpreter encounters Foo(), the following occurs:\r\n",
    "\r\n",
    "# The __call__() method of Foo’s parent class is called. Since Foo is a standard\r\n",
    "# new-style class, its parent class is the type metaclass, so type’s __call__()\r\n",
    "# method is invoked.\r\n",
    "\r\n",
    "# That __call__() method in turn invokes the following:\r\n",
    "\r\n",
    "# __new__()\r\n",
    "# __init__()\r\n",
    "\r\n",
    "# If Foo does not define __new__() and __init__(), default methods are inherited\r\n",
    "# from Foo’s ancestry. But if Foo does define these methods, they override those\r\n",
    "# from the ancestry, which allows for customized behavior when instantiating\r\n",
    "# Foo.\r\n"
   ],
   "outputs": [],
   "metadata": {}
  },
  {
   "cell_type": "code",
   "execution_count": 31,
   "source": [
    "class Meta(type):\r\n",
    "    def __new__(cls, name, bases, dct):\r\n",
    "        x = super().__new__(cls, name, bases, dct)\r\n",
    "        x.attr = 100\r\n",
    "        return x\r\n",
    "\r\n",
    "\r\n",
    "# The definition header class Meta(type): specifies that Meta derives from type.\r\n",
    "# Since type is a metaclass, that makes Meta a metaclass as well.\r\n",
    "\r\n",
    "# Note that a custom __new__() method has been defined for Meta. It wasn’t\r\n",
    "# possible to do that to the type metaclass directly.\r\n",
    "\r\n",
    "# The __new__() method does the following:\r\n",
    "\r\n",
    "# Delegates via super() to the __new__() method of the parent metaclass (type)\r\n",
    "# to actually create a new class.\r\n",
    "\r\n",
    "# Assigns the custom attribute attr to the class, with a value of 100.\r\n",
    "\r\n",
    "# Returns the newly created class\r\n"
   ],
   "outputs": [],
   "metadata": {}
  },
  {
   "cell_type": "code",
   "execution_count": 32,
   "source": [
    "class Foo(metaclass=Meta):\r\n",
    "    pass\r\n",
    "\r\n",
    "print(Foo.attr) # Foo has picked up the attr attribute automatically from the Meta metaclass"
   ],
   "outputs": [
    {
     "output_type": "stream",
     "name": "stdout",
     "text": [
      "100\n"
     ]
    }
   ],
   "metadata": {}
  },
  {
   "cell_type": "code",
   "execution_count": null,
   "source": [],
   "outputs": [],
   "metadata": {}
  }
 ],
 "metadata": {
  "orig_nbformat": 4,
  "language_info": {
   "name": "python",
   "version": "3.8.3",
   "mimetype": "text/x-python",
   "codemirror_mode": {
    "name": "ipython",
    "version": 3
   },
   "pygments_lexer": "ipython3",
   "nbconvert_exporter": "python",
   "file_extension": ".py"
  },
  "kernelspec": {
   "name": "python3",
   "display_name": "Python 3.8.3 64-bit ('base': conda)"
  },
  "interpreter": {
   "hash": "fd0ea78215a41aa615cfadc57615aa963eb601dc57b9a58754e560f2601acdb6"
  }
 },
 "nbformat": 4,
 "nbformat_minor": 2
}